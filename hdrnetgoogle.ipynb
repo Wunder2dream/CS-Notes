{
  "nbformat": 4,
  "nbformat_minor": 0,
  "metadata": {
    "colab": {
      "name": "Untitled3.ipynb",
      "provenance": [],
      "include_colab_link": true
    },
    "kernelspec": {
      "name": "python3",
      "display_name": "Python 3"
    },
    "language_info": {
      "name": "python"
    }
  },
  "cells": [
    {
      "cell_type": "markdown",
      "metadata": {
        "id": "view-in-github",
        "colab_type": "text"
      },
      "source": [
        "<a href=\"https://colab.research.google.com/github/Wunder2dream/CS-Notes/blob/master/hdrnetgoogle.ipynb\" target=\"_parent\"><img src=\"https://colab.research.google.com/assets/colab-badge.svg\" alt=\"Open In Colab\"/></a>"
      ]
    },
    {
      "cell_type": "code",
      "execution_count": 3,
      "metadata": {
        "id": "PEST8rWJRUo0",
        "outputId": "2d7bcacb-077a-43f8-e690-e417e1f5392a",
        "colab": {
          "base_uri": "https://localhost:8080/"
        }
      },
      "outputs": [
        {
          "output_type": "stream",
          "name": "stdout",
          "text": [
            "fatal: destination path 'hdrnet' already exists and is not an empty directory.\n",
            "/content/hdrnet/hdrnet\n",
            "Requirement already satisfied: numpy in /usr/local/lib/python3.11/dist-packages (from -r requirements.txt (line 1)) (2.0.2)\n",
            "Collecting pyglib (from -r requirements.txt (line 2))\n",
            "  Using cached pyglib-0.1.tar.gz (4.0 kB)\n",
            "  Preparing metadata (setup.py) ... \u001b[?25l\u001b[?25hdone\n",
            "Requirement already satisfied: scikit_image in /usr/local/lib/python3.11/dist-packages (from -r requirements.txt (line 3)) (0.25.2)\n",
            "Collecting python_gflags (from -r requirements.txt (line 4))\n",
            "  Using cached python-gflags-3.1.2.tar.gz (52 kB)\n",
            "  Preparing metadata (setup.py) ... \u001b[?25l\u001b[?25hdone\n",
            "Collecting python_magic (from -r requirements.txt (line 5))\n",
            "  Using cached python_magic-0.4.27-py2.py3-none-any.whl.metadata (5.8 kB)\n",
            "Requirement already satisfied: setproctitle in /usr/local/lib/python3.11/dist-packages (from -r requirements.txt (line 6)) (1.3.6)\n",
            "\u001b[31mERROR: Could not find a version that satisfies the requirement tensorflow-gpu==2.9.3 (from versions: 2.12.0)\u001b[0m\u001b[31m\n",
            "\u001b[0m\u001b[31mERROR: No matching distribution found for tensorflow-gpu==2.9.3\u001b[0m\u001b[31m\n",
            "\u001b[0mCollecting tensorflow-gpu==2.12.0\n",
            "  Using cached tensorflow-gpu-2.12.0.tar.gz (2.6 kB)\n",
            "  \u001b[1;31merror\u001b[0m: \u001b[1msubprocess-exited-with-error\u001b[0m\n",
            "  \n",
            "  \u001b[31m×\u001b[0m \u001b[32mpython setup.py egg_info\u001b[0m did not run successfully.\n",
            "  \u001b[31m│\u001b[0m exit code: \u001b[1;36m1\u001b[0m\n",
            "  \u001b[31m╰─>\u001b[0m See above for output.\n",
            "  \n",
            "  \u001b[1;35mnote\u001b[0m: This error originates from a subprocess, and is likely not a problem with pip.\n",
            "  Preparing metadata (setup.py) ... \u001b[?25l\u001b[?25herror\n",
            "\u001b[1;31merror\u001b[0m: \u001b[1mmetadata-generation-failed\u001b[0m\n",
            "\n",
            "\u001b[31m×\u001b[0m Encountered error while generating package metadata.\n",
            "\u001b[31m╰─>\u001b[0m See above for output.\n",
            "\n",
            "\u001b[1;35mnote\u001b[0m: This is an issue with the package mentioned above, not pip.\n",
            "\u001b[1;36mhint\u001b[0m: See above for details.\n",
            "Reading package lists... Done\n",
            "Building dependency tree... Done\n",
            "Reading state information... Done\n",
            "libmagic1 is already the newest version (1:5.41-3ubuntu0.1).\n",
            "0 upgraded, 0 newly installed, 0 to remove and 34 not upgraded.\n",
            "E: Package 'clang-10' has no installation candidate\n",
            "/usr/local/cuda\n",
            "/opt/bin:/usr/local/nvidia/bin:/usr/local/cuda/bin:/usr/local/sbin:/usr/local/bin:/usr/sbin:/usr/bin:/sbin:/bin:/tools/node/bin:/tools/google-cloud-sdk/bin:/content/hdrnet:/content/hdrnet:/content/hdrnet\n",
            "ln: /usr/local/lib/python3.11/dist-packages/tensorflow/include/third_party/gpus/cuda/include: cannot overwrite directory\n"
          ]
        }
      ],
      "source": [
        "#!pip3 install virtualenv\n",
        "#!virtualenv env\n",
        "!git clone https://github.com/ZoliN/hdrnet.git\n",
        "%rm -rf /content/hdrnet/hdrnet\n",
        "%cd /content/hdrnet/hdrnet\n",
        "!pip install -r requirements.txt\n",
        "#!pip install opencv-python\n",
        "#!pip install pytest\n",
        "!pip install tensorflow-gpu==2.12.0\n",
        "!apt-get install libmagic1\n",
        "!apt-get install clang-10 -y -qq;\n",
        "!ln -sf /usr/bin/clang-10 /usr/local/cuda/bin/gcc;\n",
        "!ln -sf /usr/bin/clang-10 /usr/local/cuda/bin/g++;\n",
        "import os\n",
        "import sys\n",
        "os.environ['CUDA_HOME'] = '/usr/local/cuda'\n",
        "os.environ['PATH'] += ':/content/hdrnet'\n",
        "os.environ['LD_LIBRARY_PATH'] += ':/content/env/lib/python3.11/site-packages/tensorflow'\n",
        "!echo $CUDA_HOME\n",
        "!echo $PATH\n",
        "!ln -sf /usr/local/lib/python3.11/dist-packages/tensorflow/include/tensorflow/ /content/hdrnet/hdrnet/ops/third_party/\n",
        "!mkdir -p /usr/local/lib/python3.11/dist-packages/tensorflow/include/third_party/gpus/cuda\n",
        "!ln -sf /usr/local/cuda/include /usr/local/lib/python3.11/dist-packages/tensorflow/include/third_party/gpus/cuda\n",
        "!cp /content/hdrnet/hdrnet/fixes/gpu_device_functions.h /usr/local/lib/python3.11/dist-packages/tensorflow/include/tensorflow/core/util/gpu_device_functions.h\n",
        "!cp /content/hdrnet/hdrnet/fixes/compressed_tuple.h /usr/local/lib/python3.11/dist-packages/tensorflow/include/absl/container/internal/compressed_tuple.h\n",
        "!cp /content/hdrnet/hdrnet/fixes/config.h  /usr/local/lib/python3.11/dist-packages/tensorflow/include/absl/base/config.h"
      ]
    },
    {
      "cell_type": "code",
      "source": [
        "!python --version"
      ],
      "metadata": {
        "id": "92BupJqxqtW1",
        "outputId": "ddd377e7-788b-4d6e-8409-2e7472f822a0",
        "colab": {
          "base_uri": "https://localhost:8080/"
        }
      },
      "execution_count": null,
      "outputs": [
        {
          "output_type": "stream",
          "name": "stdout",
          "text": [
            "Python 3.11.12\n"
          ]
        }
      ]
    },
    {
      "cell_type": "code",
      "source": [
        "!nvcc --version"
      ],
      "metadata": {
        "colab": {
          "base_uri": "https://localhost:8080/"
        },
        "id": "43fG3jsGP6tV",
        "outputId": "cb8bbcfd-3138-4712-dfce-b9aa7d8f29ea"
      },
      "execution_count": null,
      "outputs": [
        {
          "output_type": "stream",
          "name": "stdout",
          "text": [
            "nvcc: NVIDIA (R) Cuda compiler driver\n",
            "Copyright (c) 2005-2020 NVIDIA Corporation\n",
            "Built on Mon_Oct_12_20:09:46_PDT_2020\n",
            "Cuda compilation tools, release 11.1, V11.1.105\n",
            "Build cuda_11.1.TC455_06.29190527_0\n"
          ]
        }
      ]
    },
    {
      "cell_type": "code",
      "source": [
        "#!mkdir -p /content/hdrnet/hdrnet/ops/third_party/\n",
        "#!mkdir -p /content/hdrnet/hdrnet/ops/third_party/array\n",
        "#!wget https://raw.githubusercontent.com/dsharlet/array/master/array.h -P /content/hdrnet/hdrnet/ops/third_party/array/\n"
      ],
      "metadata": {
        "id": "p_y1ZQbSRJuQ"
      },
      "execution_count": null,
      "outputs": []
    },
    {
      "cell_type": "code",
      "source": [
        "%cd /content/hdrnet/hdrnet\n",
        "%env PROTOCOL_BUFFERS_PYTHON_IMPLEMENTATION=python\n",
        "!make clean\n",
        "!make"
      ],
      "metadata": {
        "id": "-KIM2ikGXeT-"
      },
      "execution_count": null,
      "outputs": []
    },
    {
      "cell_type": "code",
      "source": [
        "%cd /content/hdrnet\n",
        "from google.colab import files\n",
        "import os\n",
        "def upload(path):\n",
        "    uploaded = files.upload()\n",
        "    with open(path,'wb') as fp:\n",
        "        fp.write(uploaded[list(uploaded.keys())[0]])\n",
        "\n",
        "def download(path):\n",
        "    files.download(path)\n",
        "\n",
        "os.makedirs('./in')\n",
        "os.makedirs('./out')"
      ],
      "metadata": {
        "id": "7KayWarXZyjp"
      },
      "execution_count": null,
      "outputs": []
    },
    {
      "cell_type": "code",
      "source": [
        "%cd /content/hdrnet/hdrnet\n",
        "!py.test test\n"
      ],
      "metadata": {
        "id": "U1X8EwFAbPqJ"
      },
      "execution_count": null,
      "outputs": []
    },
    {
      "cell_type": "code",
      "source": [],
      "metadata": {
        "id": "pYvJc0Y-aUpd"
      },
      "execution_count": null,
      "outputs": []
    },
    {
      "cell_type": "code",
      "source": [
        "%cd /content/hdrnet\n",
        "from google.colab import files\n",
        "import os\n",
        "def upload(path):\n",
        "    uploaded = files.upload()\n",
        "    with open(path,'wb') as fp:\n",
        "        fp.write(uploaded[list(uploaded.keys())[0]])\n",
        "\n",
        "def download(path):\n",
        "    files.download(path)\n",
        "\n",
        "os.makedirs('./in')\n",
        "os.makedirs('./out')"
      ],
      "metadata": {
        "id": "r-Q52Nasti1E"
      },
      "execution_count": null,
      "outputs": []
    },
    {
      "cell_type": "code",
      "source": [
        "download('/content/hdrnet/hdrnet/lib/hdrnet_ops.so')"
      ],
      "metadata": {
        "id": "1HyOBthLtk94",
        "outputId": "6cd97b21-815e-486b-d53e-08b09a8c0ebd",
        "colab": {
          "base_uri": "https://localhost:8080/",
          "height": 17
        }
      },
      "execution_count": null,
      "outputs": [
        {
          "output_type": "display_data",
          "data": {
            "text/plain": [
              "<IPython.core.display.Javascript object>"
            ],
            "application/javascript": [
              "\n",
              "    async function download(id, filename, size) {\n",
              "      if (!google.colab.kernel.accessAllowed) {\n",
              "        return;\n",
              "      }\n",
              "      const div = document.createElement('div');\n",
              "      const label = document.createElement('label');\n",
              "      label.textContent = `Downloading \"${filename}\": `;\n",
              "      div.appendChild(label);\n",
              "      const progress = document.createElement('progress');\n",
              "      progress.max = size;\n",
              "      div.appendChild(progress);\n",
              "      document.body.appendChild(div);\n",
              "\n",
              "      const buffers = [];\n",
              "      let downloaded = 0;\n",
              "\n",
              "      const channel = await google.colab.kernel.comms.open(id);\n",
              "      // Send a message to notify the kernel that we're ready.\n",
              "      channel.send({})\n",
              "\n",
              "      for await (const message of channel.messages) {\n",
              "        // Send a message to notify the kernel that we're ready.\n",
              "        channel.send({})\n",
              "        if (message.buffers) {\n",
              "          for (const buffer of message.buffers) {\n",
              "            buffers.push(buffer);\n",
              "            downloaded += buffer.byteLength;\n",
              "            progress.value = downloaded;\n",
              "          }\n",
              "        }\n",
              "      }\n",
              "      const blob = new Blob(buffers, {type: 'application/binary'});\n",
              "      const a = document.createElement('a');\n",
              "      a.href = window.URL.createObjectURL(blob);\n",
              "      a.download = filename;\n",
              "      div.appendChild(a);\n",
              "      a.click();\n",
              "      div.remove();\n",
              "    }\n",
              "  "
            ]
          },
          "metadata": {}
        },
        {
          "output_type": "display_data",
          "data": {
            "text/plain": [
              "<IPython.core.display.Javascript object>"
            ],
            "application/javascript": [
              "download(\"download_b72594d0-3c6f-4688-9ed7-228c24645149\", \"hdrnet_ops.so\", 361512)"
            ]
          },
          "metadata": {}
        }
      ]
    }
  ]
}